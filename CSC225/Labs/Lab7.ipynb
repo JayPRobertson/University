{
 "cells": [
  {
   "cell_type": "code",
   "execution_count": 19,
   "id": "14b512bf",
   "metadata": {},
   "outputs": [],
   "source": [
    "import math\n",
    "\n",
    "def merge_sort(A):\n",
    "    count = 0\n",
    "    A1 = []\n",
    "    A2 = []\n",
    "    n = len(A)\n",
    "    if n < 2:\n",
    "        return A, count\n",
    "    for i in range(0, int(math.ceil(n/2))):\n",
    "        A1.append(A[i])\n",
    "    for i in range(int(math.ceil(n/2)), n): \n",
    "        A2.append(A[i])\n",
    "    A1, count1 = merge_sort(A1) \n",
    "    A2, count2 = merge_sort(A2)\n",
    "    count = count1 + count2\n",
    "   \n",
    "    i = 0\n",
    "    j = 0\n",
    "    n1 = len(A1)\n",
    "    n2 = len(A2)\n",
    "    while i < n1 and j < n2:\n",
    "        if A1[i] <= A2[j]:\n",
    "            A[i+j] = A1[i]\n",
    "            i += 1\n",
    "        else:\n",
    "            A[i+j] = A2[j]\n",
    "            j += 1\n",
    "            count += 1 #PROBLEM\n",
    "    while i < n1:\n",
    "        A[i+j] = A1[i]\n",
    "        i += 1 \n",
    "    while j < n2:\n",
    "        A[i+j] = A2[j] \n",
    "        j += 1\n",
    "    return A, count"
   ]
  },
  {
   "cell_type": "code",
   "execution_count": 20,
   "id": "3b2c659a",
   "metadata": {},
   "outputs": [],
   "source": [
    "def count_inversions(A):\n",
    "    n = len(A)\n",
    "    count = 0\n",
    "    for i in range(0,n):\n",
    "        for j in range(i+1, n):\n",
    "            if A[i] > A[j]:\n",
    "                count += 1\n",
    "    return count"
   ]
  },
  {
   "cell_type": "code",
   "execution_count": 22,
   "id": "47e34a1d",
   "metadata": {},
   "outputs": [
    {
     "name": "stdout",
     "output_type": "stream",
     "text": [
      "O(n^2): 6 \n",
      "O(nlogn): 5\n"
     ]
    }
   ],
   "source": [
    "A = [2, 1, 5, 3, 4,2,6]\n",
    "count1 = count_inversions(A)\n",
    "A, count2 = merge_sort(A)\n",
    "print(f'O(n^2): {count1} \\nO(nlogn): {count2}')\n",
    "#insertion sorting is O(n+k)!"
   ]
  },
  {
   "cell_type": "code",
   "execution_count": null,
   "id": "309b65e6",
   "metadata": {},
   "outputs": [],
   "source": []
  }
 ],
 "metadata": {
  "kernelspec": {
   "display_name": "Python 3 (ipykernel)",
   "language": "python",
   "name": "python3"
  },
  "language_info": {
   "codemirror_mode": {
    "name": "ipython",
    "version": 3
   },
   "file_extension": ".py",
   "mimetype": "text/x-python",
   "name": "python",
   "nbconvert_exporter": "python",
   "pygments_lexer": "ipython3",
   "version": "3.11.4"
  }
 },
 "nbformat": 4,
 "nbformat_minor": 5
}
