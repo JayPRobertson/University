{
 "cells": [
  {
   "cell_type": "code",
   "execution_count": 75,
   "id": "7a720a8b",
   "metadata": {},
   "outputs": [],
   "source": [
    "def heap_sort(A):\n",
    "    heap_size = len(A)-1\n",
    "  \n",
    "    for i in range(len(A)-1,1, -1):\n",
    "        A[i], A[1] = A[1], A[i]\n",
    "        heap_size -= 1\n",
    "        max_heapify(A,1,heap_size)\n",
    "    \n",
    "    return A\n",
    "\n",
    "def max_heapify(A,i,heap_size):\n",
    "    l = 2*i\n",
    "    r = 2*i +1\n",
    "    \n",
    "    if l <= heap_size and A[l] > A[i]:\n",
    "        largest = l\n",
    "    else:\n",
    "        largest = i\n",
    "        \n",
    "    if r <= heap_size and A[r] > A[largest]:\n",
    "        largest = r\n",
    "        \n",
    "    if largest != i:\n",
    "        A[i], A[largest] = A[largest], A[i]\n",
    "        max_heapify(A,largest,heap_size) "
   ]
  },
  {
   "cell_type": "code",
   "execution_count": 77,
   "id": "1b145fe5",
   "metadata": {},
   "outputs": [
    {
     "data": {
      "text/plain": [
       "['Buffer', 1, 2, 2, 2, 3, 7, 9, 11, 19, 99]"
      ]
     },
     "execution_count": 77,
     "metadata": {},
     "output_type": "execute_result"
    }
   ],
   "source": [
    "A1 = [\"Buffer\",6,5,4,1,2,3]\n",
    "A2 = [\"Buffer\",99,19,9,7,11,2,3,2,2,1]\n",
    "\n",
    "heap_sort(A2)"
   ]
  },
  {
   "cell_type": "code",
   "execution_count": null,
   "id": "95733a92",
   "metadata": {},
   "outputs": [],
   "source": []
  }
 ],
 "metadata": {
  "kernelspec": {
   "display_name": "Python 3 (ipykernel)",
   "language": "python",
   "name": "python3"
  },
  "language_info": {
   "codemirror_mode": {
    "name": "ipython",
    "version": 3
   },
   "file_extension": ".py",
   "mimetype": "text/x-python",
   "name": "python",
   "nbconvert_exporter": "python",
   "pygments_lexer": "ipython3",
   "version": "3.11.4"
  }
 },
 "nbformat": 4,
 "nbformat_minor": 5
}
